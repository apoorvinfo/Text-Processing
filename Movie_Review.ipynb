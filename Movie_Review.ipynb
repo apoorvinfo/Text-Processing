{
 "cells": [
  {
   "cell_type": "code",
   "execution_count": 1,
   "metadata": {},
   "outputs": [
    {
     "name": "stdout",
     "output_type": "stream",
     "text": [
      "1.8.0\n"
     ]
    }
   ],
   "source": [
    "import tensorflow as tf\n",
    "from tensorflow import keras\n",
    "\n",
    "import numpy as np\n",
    "\n",
    "print(tf.__version__)"
   ]
  },
  {
   "cell_type": "code",
   "execution_count": 2,
   "metadata": {},
   "outputs": [
    {
     "name": "stdout",
     "output_type": "stream",
     "text": [
      "Downloading data from https://s3.amazonaws.com/text-datasets/imdb.npz\n",
      "17465344/17464789 [==============================] - 19s 1us/step\n"
     ]
    }
   ],
   "source": [
    "imdb = keras.datasets.imdb\n",
    "\n",
    "(train_data, train_labels), (test_data, test_labels) = imdb.load_data(num_words=10000)\n"
   ]
  },
  {
   "cell_type": "code",
   "execution_count": 3,
   "metadata": {},
   "outputs": [
    {
     "name": "stdout",
     "output_type": "stream",
     "text": [
      "Training entries: 25000, labels: 25000\n"
     ]
    }
   ],
   "source": [
    "print(\"Training entries: {}, labels: {}\".format(len(train_data), len(train_labels)))"
   ]
  },
  {
   "cell_type": "code",
   "execution_count": 4,
   "metadata": {},
   "outputs": [
    {
     "name": "stdout",
     "output_type": "stream",
     "text": [
      "[1, 14, 22, 16, 43, 530, 973, 1622, 1385, 65, 458, 4468, 66, 3941, 4, 173, 36, 256, 5, 25, 100, 43, 838, 112, 50, 670, 2, 9, 35, 480, 284, 5, 150, 4, 172, 112, 167, 2, 336, 385, 39, 4, 172, 4536, 1111, 17, 546, 38, 13, 447, 4, 192, 50, 16, 6, 147, 2025, 19, 14, 22, 4, 1920, 4613, 469, 4, 22, 71, 87, 12, 16, 43, 530, 38, 76, 15, 13, 1247, 4, 22, 17, 515, 17, 12, 16, 626, 18, 2, 5, 62, 386, 12, 8, 316, 8, 106, 5, 4, 2223, 5244, 16, 480, 66, 3785, 33, 4, 130, 12, 16, 38, 619, 5, 25, 124, 51, 36, 135, 48, 25, 1415, 33, 6, 22, 12, 215, 28, 77, 52, 5, 14, 407, 16, 82, 2, 8, 4, 107, 117, 5952, 15, 256, 4, 2, 7, 3766, 5, 723, 36, 71, 43, 530, 476, 26, 400, 317, 46, 7, 4, 2, 1029, 13, 104, 88, 4, 381, 15, 297, 98, 32, 2071, 56, 26, 141, 6, 194, 7486, 18, 4, 226, 22, 21, 134, 476, 26, 480, 5, 144, 30, 5535, 18, 51, 36, 28, 224, 92, 25, 104, 4, 226, 65, 16, 38, 1334, 88, 12, 16, 283, 5, 16, 4472, 113, 103, 32, 15, 16, 5345, 19, 178, 32]\n"
     ]
    }
   ],
   "source": [
    "print(train_data[0])\n",
    "\n"
   ]
  },
  {
   "cell_type": "code",
   "execution_count": 6,
   "metadata": {},
   "outputs": [
    {
     "name": "stdout",
     "output_type": "stream",
     "text": [
      "218 189\n"
     ]
    }
   ],
   "source": [
    "print(len(train_data[0]), len(train_data[1]))"
   ]
  },
  {
   "cell_type": "code",
   "execution_count": 7,
   "metadata": {},
   "outputs": [
    {
     "name": "stdout",
     "output_type": "stream",
     "text": [
      "Downloading data from https://s3.amazonaws.com/text-datasets/imdb_word_index.json\n",
      "1646592/1641221 [==============================] - 9s 5us/step\n"
     ]
    }
   ],
   "source": [
    "# A dictionary mapping words to an integer index\n",
    "word_index = imdb.get_word_index()\n",
    "\n",
    "# The first indices are reserved\n",
    "word_index = {k:(v+3) for k,v in word_index.items()} \n",
    "word_index[\"<PAD>\"] = 0\n",
    "word_index[\"<START>\"] = 1\n",
    "word_index[\"<UNK>\"] = 2  # unknown\n",
    "word_index[\"<UNUSED>\"] = 3\n",
    "\n",
    "reverse_word_index = dict([(value, key) for (key, value) in word_index.items()])\n",
    "\n",
    "def decode_review(text):\n",
    "    return ' '.join([reverse_word_index.get(i, '?') for i in text])"
   ]
  },
  {
   "cell_type": "code",
   "execution_count": 8,
   "metadata": {},
   "outputs": [
    {
     "data": {
      "text/plain": [
       "\"<START> this film was just brilliant casting location scenery story direction everyone's really suited the part they played and you could just imagine being there robert <UNK> is an amazing actor and now the same being director <UNK> father came from the same scottish island as myself so i loved the fact there was a real connection with this film the witty remarks throughout the film were great it was just brilliant so much that i bought the film as soon as it was released for <UNK> and would recommend it to everyone to watch and the fly fishing was amazing really cried at the end it was so sad and you know what they say if you cry at a film it must have been good and this definitely was also <UNK> to the two little boy's that played the <UNK> of norman and paul they were just brilliant children are often left out of the <UNK> list i think because the stars that play them all grown up are such a big profile for the whole film but these children are amazing and should be praised for what they have done don't you think the whole story was so lovely because it was true and was someone's life after all that was shared with us all\""
      ]
     },
     "execution_count": 8,
     "metadata": {},
     "output_type": "execute_result"
    }
   ],
   "source": [
    "decode_review(train_data[0])\n"
   ]
  },
  {
   "cell_type": "code",
   "execution_count": 9,
   "metadata": {},
   "outputs": [],
   "source": [
    "train_data = keras.preprocessing.sequence.pad_sequences(train_data,\n",
    "                                                        value=word_index[\"<PAD>\"],\n",
    "                                                        padding='post',\n",
    "                                                        maxlen=256)\n",
    "\n",
    "test_data = keras.preprocessing.sequence.pad_sequences(test_data,\n",
    "                                                       value=word_index[\"<PAD>\"],\n",
    "                                                       padding='post',\n",
    "                                                       maxlen=256)"
   ]
  },
  {
   "cell_type": "code",
   "execution_count": 10,
   "metadata": {},
   "outputs": [
    {
     "name": "stdout",
     "output_type": "stream",
     "text": [
      "256 256\n"
     ]
    }
   ],
   "source": [
    "print(len(train_data[0]), len(train_data[1]))\n"
   ]
  },
  {
   "cell_type": "code",
   "execution_count": 11,
   "metadata": {},
   "outputs": [
    {
     "name": "stdout",
     "output_type": "stream",
     "text": [
      "[   1   14   22   16   43  530  973 1622 1385   65  458 4468   66 3941\n",
      "    4  173   36  256    5   25  100   43  838  112   50  670    2    9\n",
      "   35  480  284    5  150    4  172  112  167    2  336  385   39    4\n",
      "  172 4536 1111   17  546   38   13  447    4  192   50   16    6  147\n",
      " 2025   19   14   22    4 1920 4613  469    4   22   71   87   12   16\n",
      "   43  530   38   76   15   13 1247    4   22   17  515   17   12   16\n",
      "  626   18    2    5   62  386   12    8  316    8  106    5    4 2223\n",
      " 5244   16  480   66 3785   33    4  130   12   16   38  619    5   25\n",
      "  124   51   36  135   48   25 1415   33    6   22   12  215   28   77\n",
      "   52    5   14  407   16   82    2    8    4  107  117 5952   15  256\n",
      "    4    2    7 3766    5  723   36   71   43  530  476   26  400  317\n",
      "   46    7    4    2 1029   13  104   88    4  381   15  297   98   32\n",
      " 2071   56   26  141    6  194 7486   18    4  226   22   21  134  476\n",
      "   26  480    5  144   30 5535   18   51   36   28  224   92   25  104\n",
      "    4  226   65   16   38 1334   88   12   16  283    5   16 4472  113\n",
      "  103   32   15   16 5345   19  178   32    0    0    0    0    0    0\n",
      "    0    0    0    0    0    0    0    0    0    0    0    0    0    0\n",
      "    0    0    0    0    0    0    0    0    0    0    0    0    0    0\n",
      "    0    0    0    0]\n"
     ]
    }
   ],
   "source": [
    "print(train_data[0])"
   ]
  },
  {
   "cell_type": "code",
   "execution_count": 13,
   "metadata": {},
   "outputs": [
    {
     "name": "stdout",
     "output_type": "stream",
     "text": [
      "_________________________________________________________________\n",
      "Layer (type)                 Output Shape              Param #   \n",
      "=================================================================\n",
      "embedding_2 (Embedding)      (None, None, 16)          160000    \n",
      "_________________________________________________________________\n",
      "global_average_pooling1d_2 ( (None, 16)                0         \n",
      "_________________________________________________________________\n",
      "dense_3 (Dense)              (None, 16)                272       \n",
      "_________________________________________________________________\n",
      "dense_4 (Dense)              (None, 1)                 17        \n",
      "=================================================================\n",
      "Total params: 160,289\n",
      "Trainable params: 160,289\n",
      "Non-trainable params: 0\n",
      "_________________________________________________________________\n"
     ]
    }
   ],
   "source": [
    "# input shape is the vocabulary count used for the movie reviews (10,000 words)\n",
    "vocab_size = 10000\n",
    "\n",
    "model = keras.Sequential()\n",
    "model.add(keras.layers.Embedding(vocab_size, 16))\n",
    "model.add(keras.layers.GlobalAveragePooling1D())\n",
    "model.add(keras.layers.Dense(16, activation=tf.nn.relu))\n",
    "model.add(keras.layers.Dense(1, activation=tf.nn.sigmoid))\n",
    "\n",
    "model.summary()"
   ]
  },
  {
   "cell_type": "code",
   "execution_count": 14,
   "metadata": {},
   "outputs": [],
   "source": [
    "model.compile(optimizer=tf.train.AdamOptimizer(),\n",
    "              loss='binary_crossentropy',\n",
    "              metrics=['accuracy'])\n"
   ]
  },
  {
   "cell_type": "code",
   "execution_count": 15,
   "metadata": {},
   "outputs": [],
   "source": [
    "x_val = train_data[:10000]\n",
    "partial_x_train = train_data[10000:]\n",
    "\n",
    "y_val = train_labels[:10000]\n",
    "partial_y_train = train_labels[10000:]"
   ]
  },
  {
   "cell_type": "code",
   "execution_count": 16,
   "metadata": {},
   "outputs": [
    {
     "name": "stdout",
     "output_type": "stream",
     "text": [
      "Train on 15000 samples, validate on 10000 samples\n",
      "Epoch 1/40\n",
      "15000/15000 [==============================] - 4s 261us/step - loss: 0.6964 - acc: 0.5017 - val_loss: 0.6943 - val_acc: 0.5083\n",
      "Epoch 2/40\n",
      "15000/15000 [==============================] - 2s 133us/step - loss: 0.6927 - acc: 0.5141 - val_loss: 0.6913 - val_acc: 0.5199\n",
      "Epoch 3/40\n",
      "15000/15000 [==============================] - 2s 138us/step - loss: 0.6896 - acc: 0.5287 - val_loss: 0.6889 - val_acc: 0.5357\n",
      "Epoch 4/40\n",
      "15000/15000 [==============================] - 2s 148us/step - loss: 0.6866 - acc: 0.5735 - val_loss: 0.6867 - val_acc: 0.5946\n",
      "Epoch 5/40\n",
      "15000/15000 [==============================] - 3s 168us/step - loss: 0.6830 - acc: 0.6344 - val_loss: 0.6819 - val_acc: 0.6514\n",
      "Epoch 6/40\n",
      "15000/15000 [==============================] - 2s 138us/step - loss: 0.6782 - acc: 0.6911 - val_loss: 0.6769 - val_acc: 0.7182\n",
      "Epoch 7/40\n",
      "15000/15000 [==============================] - 2s 143us/step - loss: 0.6717 - acc: 0.7401 - val_loss: 0.6706 - val_acc: 0.6924\n",
      "Epoch 8/40\n",
      "15000/15000 [==============================] - 2s 132us/step - loss: 0.6630 - acc: 0.7598 - val_loss: 0.6616 - val_acc: 0.7166\n",
      "Epoch 9/40\n",
      "15000/15000 [==============================] - 2s 136us/step - loss: 0.6516 - acc: 0.7739 - val_loss: 0.6494 - val_acc: 0.7628\n",
      "Epoch 10/40\n",
      "15000/15000 [==============================] - 2s 138us/step - loss: 0.6366 - acc: 0.7841 - val_loss: 0.6340 - val_acc: 0.7695\n",
      "Epoch 11/40\n",
      "15000/15000 [==============================] - 2s 134us/step - loss: 0.6187 - acc: 0.7733 - val_loss: 0.6166 - val_acc: 0.7673\n",
      "Epoch 12/40\n",
      "15000/15000 [==============================] - 2s 147us/step - loss: 0.5972 - acc: 0.7909 - val_loss: 0.5956 - val_acc: 0.7804\n",
      "Epoch 13/40\n",
      "15000/15000 [==============================] - 2s 148us/step - loss: 0.5728 - acc: 0.8017 - val_loss: 0.5741 - val_acc: 0.7833\n",
      "Epoch 14/40\n",
      "15000/15000 [==============================] - 2s 137us/step - loss: 0.5474 - acc: 0.8122 - val_loss: 0.5500 - val_acc: 0.7974\n",
      "Epoch 15/40\n",
      "15000/15000 [==============================] - 2s 137us/step - loss: 0.5208 - acc: 0.8196 - val_loss: 0.5256 - val_acc: 0.8043\n",
      "Epoch 16/40\n",
      "15000/15000 [==============================] - 2s 136us/step - loss: 0.4949 - acc: 0.8287 - val_loss: 0.5026 - val_acc: 0.8120\n",
      "Epoch 17/40\n",
      "15000/15000 [==============================] - 2s 137us/step - loss: 0.4685 - acc: 0.8399 - val_loss: 0.4800 - val_acc: 0.8211\n",
      "Epoch 18/40\n",
      "15000/15000 [==============================] - 2s 163us/step - loss: 0.4430 - acc: 0.8504 - val_loss: 0.4572 - val_acc: 0.8295\n",
      "Epoch 19/40\n",
      "15000/15000 [==============================] - 2s 138us/step - loss: 0.4185 - acc: 0.8574 - val_loss: 0.4364 - val_acc: 0.8368\n",
      "Epoch 20/40\n",
      "15000/15000 [==============================] - 2s 149us/step - loss: 0.3959 - acc: 0.8657 - val_loss: 0.4177 - val_acc: 0.8442\n",
      "Epoch 21/40\n",
      "15000/15000 [==============================] - 2s 165us/step - loss: 0.3752 - acc: 0.8723 - val_loss: 0.4011 - val_acc: 0.8474\n",
      "Epoch 22/40\n",
      "15000/15000 [==============================] - 2s 141us/step - loss: 0.3569 - acc: 0.8781 - val_loss: 0.3867 - val_acc: 0.8511\n",
      "Epoch 23/40\n",
      "15000/15000 [==============================] - 2s 153us/step - loss: 0.3408 - acc: 0.8828 - val_loss: 0.3744 - val_acc: 0.8556\n",
      "Epoch 24/40\n",
      "15000/15000 [==============================] - 2s 141us/step - loss: 0.3260 - acc: 0.8874 - val_loss: 0.3635 - val_acc: 0.8591\n",
      "Epoch 25/40\n",
      "15000/15000 [==============================] - 2s 138us/step - loss: 0.3130 - acc: 0.8910 - val_loss: 0.3540 - val_acc: 0.8621\n",
      "Epoch 26/40\n",
      "15000/15000 [==============================] - 2s 142us/step - loss: 0.3012 - acc: 0.8952 - val_loss: 0.3461 - val_acc: 0.8618\n",
      "Epoch 27/40\n",
      "15000/15000 [==============================] - 2s 150us/step - loss: 0.2908 - acc: 0.8967 - val_loss: 0.3389 - val_acc: 0.8662\n",
      "Epoch 28/40\n",
      "15000/15000 [==============================] - 2s 145us/step - loss: 0.2807 - acc: 0.9008 - val_loss: 0.3323 - val_acc: 0.8679\n",
      "Epoch 29/40\n",
      "15000/15000 [==============================] - 2s 141us/step - loss: 0.2718 - acc: 0.9032 - val_loss: 0.3272 - val_acc: 0.8708\n",
      "Epoch 30/40\n",
      "15000/15000 [==============================] - 2s 139us/step - loss: 0.2642 - acc: 0.9048 - val_loss: 0.3220 - val_acc: 0.8718\n",
      "Epoch 31/40\n",
      "15000/15000 [==============================] - 2s 140us/step - loss: 0.2557 - acc: 0.9081 - val_loss: 0.3179 - val_acc: 0.8736\n",
      "Epoch 32/40\n",
      "15000/15000 [==============================] - 2s 142us/step - loss: 0.2490 - acc: 0.9110 - val_loss: 0.3140 - val_acc: 0.8749\n",
      "Epoch 33/40\n",
      "15000/15000 [==============================] - 2s 155us/step - loss: 0.2417 - acc: 0.9133 - val_loss: 0.3106 - val_acc: 0.8760\n",
      "Epoch 34/40\n",
      "15000/15000 [==============================] - 2s 148us/step - loss: 0.2353 - acc: 0.9151 - val_loss: 0.3076 - val_acc: 0.8765\n",
      "Epoch 35/40\n",
      "15000/15000 [==============================] - 2s 152us/step - loss: 0.2297 - acc: 0.9181 - val_loss: 0.3047 - val_acc: 0.8775\n",
      "Epoch 36/40\n",
      "15000/15000 [==============================] - 2s 155us/step - loss: 0.2234 - acc: 0.9208 - val_loss: 0.3024 - val_acc: 0.8769\n",
      "Epoch 37/40\n",
      "15000/15000 [==============================] - 3s 171us/step - loss: 0.2180 - acc: 0.9231 - val_loss: 0.3003 - val_acc: 0.8776\n",
      "Epoch 38/40\n",
      "15000/15000 [==============================] - 3s 179us/step - loss: 0.2128 - acc: 0.9242 - val_loss: 0.2981 - val_acc: 0.8783\n",
      "Epoch 39/40\n",
      "15000/15000 [==============================] - 3s 173us/step - loss: 0.2074 - acc: 0.9264 - val_loss: 0.2962 - val_acc: 0.8789\n",
      "Epoch 40/40\n",
      "15000/15000 [==============================] - 3s 172us/step - loss: 0.2026 - acc: 0.9284 - val_loss: 0.2945 - val_acc: 0.8808\n"
     ]
    }
   ],
   "source": [
    "history = model.fit(partial_x_train,\n",
    "                    partial_y_train,\n",
    "                    epochs=40,\n",
    "                    batch_size=512,\n",
    "                    validation_data=(x_val, y_val),\n",
    "                    verbose=1)"
   ]
  },
  {
   "cell_type": "code",
   "execution_count": 17,
   "metadata": {},
   "outputs": [
    {
     "name": "stdout",
     "output_type": "stream",
     "text": [
      "25000/25000 [==============================] - 1s 59us/step\n"
     ]
    }
   ],
   "source": [
    "results = model.evaluate(test_data, test_labels)\n"
   ]
  },
  {
   "cell_type": "code",
   "execution_count": 18,
   "metadata": {},
   "outputs": [
    {
     "name": "stdout",
     "output_type": "stream",
     "text": [
      "[0.30901540137290956, 0.87288]\n"
     ]
    }
   ],
   "source": [
    "print(results)"
   ]
  },
  {
   "cell_type": "code",
   "execution_count": 26,
   "metadata": {},
   "outputs": [],
   "source": [
    "history_dict = history.history\n",
    "history_dict.keys()\n",
    "import matplotlib.pyplot as plt\n",
    "\n",
    "acc = history.history['acc']\n",
    "val_acc = history.history['val_acc']\n",
    "loss = history.history['loss']\n",
    "val_loss = history.history['val_loss']\n"
   ]
  },
  {
   "cell_type": "code",
   "execution_count": 24,
   "metadata": {},
   "outputs": [
    {
     "data": {
      "image/png": "[encoded data removed]",
      "text/plain": [
       "<Figure size 432x288 with 1 Axes>"
      ]
     },
     "metadata": {
      "needs_background": "light"
     },
     "output_type": "display_data"
    }
   ],
   "source": [
    "epochs = range(1, len(acc) + 1)\n",
    "\n",
    "# \"bo\" is for \"blue dot\"\n",
    "plt.plot(epochs, loss, 'bo', label='Training loss')\n",
    "# b is for \"solid blue line\"\n",
    "plt.plot(epochs, val_loss, 'b', label='Validation loss')\n",
    "plt.title('Training and validation loss')\n",
    "plt.xlabel('Epochs')\n",
    "plt.ylabel('Loss')\n",
    "plt.legend()\n",
    "\n",
    "plt.show()"
   ]
  },
  {
   "cell_type": "code",
   "execution_count": 25,
   "metadata": {},
   "outputs": [
    {
     "data": {
      "image/png": "[encoded data removed]",
      "text/plain": [
       "<Figure size 432x288 with 1 Axes>"
      ]
     },
     "metadata": {
      "needs_background": "light"
     },
     "output_type": "display_data"
    }
   ],
   "source": [
    "plt.clf()   # clear figure\n",
    "acc_values = history_dict['acc']\n",
    "val_acc_values = history_dict['val_acc']\n",
    "\n",
    "plt.plot(epochs, acc, 'bo', label='Training acc')\n",
    "plt.plot(epochs, val_acc, 'b', label='Validation acc')\n",
    "plt.title('Training and validation accuracy')\n",
    "plt.xlabel('Epochs')\n",
    "plt.ylabel('Accuracy')\n",
    "plt.legend()\n",
    "\n",
    "plt.show()"
   ]
  },
  {
   "cell_type": "code",
   "execution_count": null,
   "metadata": {},
   "outputs": [],
   "source": []
  }
 ],
 "metadata": {
  "kernelspec": {
   "display_name": "Python 3",
   "language": "python",
   "name": "python3"
  },
  "language_info": {
   "codemirror_mode": {
    "name": "ipython",
    "version": 3
   },
   "file_extension": ".py",
   "mimetype": "text/x-python",
   "name": "python",
   "nbconvert_exporter": "python",
   "pygments_lexer": "ipython3",
   "version": "3.6.2"
  }
 },
 "nbformat": 4,
 "nbformat_minor": 2
}
